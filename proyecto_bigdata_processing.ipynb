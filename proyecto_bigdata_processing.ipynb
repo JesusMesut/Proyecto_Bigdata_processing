{
 "cells": [
  {
   "cell_type": "markdown",
   "id": "65a9c0ff",
   "metadata": {},
   "source": [
    "<h1> Importaciones </h1>"
   ]
  },
  {
   "cell_type": "code",
   "execution_count": 4,
   "id": "48603a0b",
   "metadata": {},
   "outputs": [],
   "source": [
    "import findspark\n",
    "findspark.init()\n",
    "\n",
    "import pandas as pd\n",
    "import pyspark"
   ]
  },
  {
   "cell_type": "code",
   "execution_count": 5,
   "id": "a678aa36",
   "metadata": {},
   "outputs": [],
   "source": [
    "from pyspark.sql import SparkSession\n",
    "from pyspark.sql.functions import *\n",
    "\n",
    "spark = SparkSession.builder\\\n",
    "        .master(\"local[*]\")\\\n",
    "        .appName('PySpark_Tutorial')\\\n",
    "        .getOrCreate()"
   ]
  },
  {
   "cell_type": "markdown",
   "id": "91d6a19c",
   "metadata": {},
   "source": [
    "<h1> Lectura de CSV </h1>"
   ]
  },
  {
   "cell_type": "code",
   "execution_count": 6,
   "id": "df350930",
   "metadata": {
    "scrolled": true
   },
   "outputs": [],
   "source": [
    "world_happ_data_2021 = spark.read.csv(\n",
    "    'C:/Users/sonia/Desktop/big-data-processing/Proyecto-Final/Datasets/world-happiness-report-2021.csv',\n",
    "    sep = ',',\n",
    "    header = True,\n",
    "    inferSchema = True\n",
    "    )\n"
   ]
  },
  {
   "cell_type": "code",
   "execution_count": 7,
   "id": "77af4213",
   "metadata": {},
   "outputs": [],
   "source": [
    "world_happ_data = spark.read.csv(\n",
    "    'C:/Users/sonia/Desktop/big-data-processing/Proyecto-Final/Datasets/world-happiness-report.csv',\n",
    "    sep = ',',\n",
    "    header = True,\n",
    "    inferSchema = True\n",
    "    )"
   ]
  },
  {
   "cell_type": "markdown",
   "id": "3da66c6f",
   "metadata": {},
   "source": [
    "<h1> Cambio de variables </h1>"
   ]
  },
  {
   "cell_type": "code",
   "execution_count": 8,
   "id": "7ce85390",
   "metadata": {},
   "outputs": [],
   "source": [
    "# world-happiness-report-2021.csv\n",
    "world_happ_data_2021 = world_happ_data_2021.withColumnRenamed('Country name', 'Country_name')\n",
    "world_happ_data_2021 = world_happ_data_2021.withColumnRenamed('Ladder score', 'Ladder_score')\n",
    "world_happ_data_2021 = world_happ_data_2021.withColumnRenamed('Regional indicator', 'Regional_indicator')\n",
    "\n",
    "# world-happiness-report.csv\n",
    "world_happ_data = world_happ_data.withColumnRenamed('Country name', 'Country_name')\n",
    "world_happ_data = world_happ_data.withColumnRenamed('Life Ladder', 'Life_Ladder')\n",
    "world_happ_data = world_happ_data.withColumnRenamed('Log GDP per capita', 'Log_GDP_per_capita')\n",
    "world_happ_data = world_happ_data.withColumnRenamed('Healthy life expectancy at birth', 'Healthy_life_expectancy_at_birth')\n"
   ]
  },
  {
   "cell_type": "markdown",
   "id": "529dce6d",
   "metadata": {},
   "source": [
    "<h1> Ejercicio 1 ¿Cuál es el país más “feliz” del 2021? </h1> "
   ]
  },
  {
   "cell_type": "code",
   "execution_count": 9,
   "id": "a39f7785",
   "metadata": {},
   "outputs": [
    {
     "name": "stdout",
     "output_type": "stream",
     "text": [
      "+------------+------------+\n",
      "|Country_name|Ladder_score|\n",
      "+------------+------------+\n",
      "|     Finland|       7.842|\n",
      "+------------+------------+\n",
      "\n"
     ]
    }
   ],
   "source": [
    "# tabla temporal \n",
    "world_happ_data_2021.createOrReplaceTempView(\"temp_table_2021\")\n",
    "\n",
    "# Query\n",
    "spark.sql(\"select Country_name, Ladder_score from temp_table_2021 where Ladder_score = (select max(Ladder_score) from temp_table_2021 )\").show()"
   ]
  },
  {
   "cell_type": "markdown",
   "id": "f270d0c1",
   "metadata": {},
   "source": [
    "<h1> Ejercicio 2 ¿Cuál es el país más “feliz” del 2021 por continente? </h1>"
   ]
  },
  {
   "cell_type": "code",
   "execution_count": 10,
   "id": "cb5bed80",
   "metadata": {},
   "outputs": [
    {
     "name": "stdout",
     "output_type": "stream",
     "text": [
      "                                    Ladder score              Country name\n",
      "Regional indicator                                                        \n",
      "Central and Eastern Europe                 6.965                  Slovenia\n",
      "Commonwealth of Independent States         6.179                Uzbekistan\n",
      "East Asia                                  6.584  Taiwan Province of China\n",
      "Latin America and Caribbean                7.069                 Venezuela\n",
      "Middle East and North Africa               7.157                     Yemen\n",
      "North America and ANZ                      7.277             United States\n",
      "South Asia                                 5.269                 Sri Lanka\n",
      "Southeast Asia                             6.377                   Vietnam\n",
      "Sub-Saharan Africa                         6.049                  Zimbabwe\n",
      "Western Europe                             7.842            United Kingdom\n"
     ]
    },
    {
     "name": "stderr",
     "output_type": "stream",
     "text": [
      "C:\\Users\\sonia\\AppData\\Local\\Temp\\ipykernel_12748\\3983244100.py:4: FutureWarning: Indexing with multiple keys (implicitly converted to a tuple of keys) will be deprecated, use a list instead.\n",
      "  max_values = df.groupby('Regional indicator')['Ladder score','Country name'].max()\n"
     ]
    }
   ],
   "source": [
    "df = pd.read_csv('C:/Users/sonia/Desktop/big-data-processing/Proyecto-Final/Datasets/world-happiness-report-2021.csv')\n",
    "\n",
    "# Agrupa los datos por la columna 'Regional indicator' y obtiene el máximo valor de la columna 'Ladder score' para cada grupo\n",
    "max_values = df.groupby('Regional indicator')['Ladder score','Country name'].max()\n",
    "\n",
    "print(max_values)\n",
    "\n",
    "# da un Warning pero ejecuta de forma correcta"
   ]
  },
  {
   "cell_type": "markdown",
   "id": "6f5d3c7c",
   "metadata": {},
   "source": [
    "<h1>Ejercicio 3 ¿Cuál es el país que más veces ocupó el primer lugar en todos los años?</h1"
   ]
  },
  {
   "cell_type": "code",
   "execution_count": 11,
   "id": "27a0bd21",
   "metadata": {},
   "outputs": [
    {
     "name": "stdout",
     "output_type": "stream",
     "text": [
      "+------------+-------------+\n",
      "|Country_name|veces_primero|\n",
      "+------------+-------------+\n",
      "|     Denmark|            7|\n",
      "|     Finland|            6|\n",
      "|      Norway|            1|\n",
      "| Switzerland|            1|\n",
      "|      Canada|            1|\n",
      "+------------+-------------+\n",
      "\n"
     ]
    }
   ],
   "source": [
    "# tabla temporal \n",
    "world_happ_data.createOrReplaceTempView(\"temp_table\")\n",
    "\n",
    "# Query\n",
    "spark.sql(\"SELECT Country_name, COUNT(*) as veces_primero FROM (SELECT *, ROW_NUMBER() OVER(PARTITION BY year ORDER by Life_Ladder DESC) as fila FROM temp_table) as sub WHERE fila = 1 GROUP BY Country_name order by veces_primero DESC\").show()"
   ]
  },
  {
   "cell_type": "markdown",
   "id": "0046ebb5",
   "metadata": {},
   "source": [
    "<h1>Ejercicio 4 ¿Qué puesto de Felicidad tiene el país con mayor GDP del 2020?</h1"
   ]
  },
  {
   "cell_type": "code",
   "execution_count": 12,
   "id": "7ef6cc42",
   "metadata": {},
   "outputs": [
    {
     "name": "stdout",
     "output_type": "stream",
     "text": [
      "+--------------------+---------------+------------------+---------------------+-----------+\n",
      "|        Country_name|posicion_de_GDP|Log_GDP_per_capita|posicion_de_Felicidad|Life_Ladder|\n",
      "+--------------------+---------------+------------------+---------------------+-----------+\n",
      "|             Ireland|              1|            11.323|                   13|      7.035|\n",
      "|         Switzerland|              2|            11.081|                    4|      7.508|\n",
      "|United Arab Emirates|              3|            11.053|                   26|      6.458|\n",
      "|              Norway|              4|            11.042|                    8|       7.29|\n",
      "|       United States|              5|            11.001|                   14|      7.028|\n",
      "|             Denmark|              6|             10.91|                    3|      7.515|\n",
      "|         Netherlands|              7|            10.901|                    5|      7.504|\n",
      "|             Austria|              8|            10.851|                   10|      7.213|\n",
      "|              Sweden|              9|            10.838|                    6|      7.314|\n",
      "|             Germany|             10|            10.833|                    7|      7.312|\n",
      "|             Iceland|             11|            10.824|                    2|      7.575|\n",
      "|             Belgium|             12|            10.771|                   17|      6.839|\n",
      "|           Australia|             13|             10.76|                   12|      7.137|\n",
      "|             Finland|             14|             10.75|                    1|      7.889|\n",
      "|              Canada|             15|             10.73|                   15|      7.025|\n",
      "|        Saudi Arabia|             16|            10.701|                   20|       6.56|\n",
      "|         South Korea|             17|            10.648|                   46|      5.793|\n",
      "|              France|             18|            10.643|                   19|      6.714|\n",
      "|      United Kingdom|             19|            10.626|                   18|      6.798|\n",
      "|             Bahrain|             20|             10.62|                   32|      6.173|\n",
      "+--------------------+---------------+------------------+---------------------+-----------+\n",
      "only showing top 20 rows\n",
      "\n"
     ]
    }
   ],
   "source": [
    "# tabla temporal \n",
    "world_happ_data.createOrReplaceTempView(\"temp_table\")\n",
    "\n",
    "# Query\n",
    "spark.sql(\"select Country_name,ROW_NUMBER() over (order by Log_GDP_per_capita DESC) as posicion_de_GDP, Log_GDP_per_capita, ROW_NUMBER() over (order by Life_Ladder DESC) as posicion_de_Felicidad,Life_Ladder from temp_table where year = 2020 and Log_GDP_per_capita is not null ORDER BY Log_GDP_per_capita desc\").show()\n",
    "\n",
    "# podemos ponerle LIMIT 1 para ver solo Ireland"
   ]
  },
  {
   "cell_type": "markdown",
   "id": "1f5da2e0",
   "metadata": {},
   "source": [
    "<h1> Ejercicio 5 ¿En que porcentaje a variado a nivel mundial el GDP promedio del 2020 respecto al 2021? ¿Aumentó \n",
    "o disminuyó? </h1>"
   ]
  },
  {
   "cell_type": "code",
   "execution_count": 13,
   "id": "240b58a8",
   "metadata": {},
   "outputs": [
    {
     "name": "stdout",
     "output_type": "stream",
     "text": [
      "GPD promedio del 2020 : 9.751329545454546\n",
      "\n",
      "GPD promedio del 2021 : 9.432208053691273\n",
      "\n",
      "El GPD promedio del 2020 al 2021 disminuyó en : -3.272594678251106\n"
     ]
    }
   ],
   "source": [
    "df_all = pd.read_csv('C:/Users/sonia/Desktop/big-data-processing/Proyecto-Final/Datasets/world-happiness-report.csv')\n",
    "\n",
    "df_2020 = df_all[df_all['year'] == 2020]\n",
    "\n",
    "porcentaje_2020 = df_2020['Log GDP per capita'].mean()\n",
    "\n",
    "print(f\"GPD promedio del 2020 : {porcentaje_2020}\\n\") \n",
    "\n",
    "df_2021 = pd.read_csv('C:/Users/sonia/Desktop/big-data-processing/Proyecto-Final/Datasets/world-happiness-report-2021.csv')\n",
    "\n",
    "porcentaje_2021 = df_2021['Logged GDP per capita'].mean()\n",
    "\n",
    "print(f\"GPD promedio del 2021 : {porcentaje_2021}\\n\") \n",
    "\n",
    "porcentaje_total = ((porcentaje_2021/ porcentaje_2020) - 1) * 100 \n",
    "\n",
    "print(f\"El GPD promedio del 2020 al 2021 disminuyó en : {porcentaje_total}\") "
   ]
  },
  {
   "cell_type": "markdown",
   "id": "3ede2308",
   "metadata": {},
   "source": [
    "<h1>Ejercicio 6 ¿Cuál es el país con mayor expectativa de vida ? </h1>"
   ]
  },
  {
   "cell_type": "code",
   "execution_count": 14,
   "id": "9f1c9bad",
   "metadata": {},
   "outputs": [
    {
     "name": "stdout",
     "output_type": "stream",
     "text": [
      "+------------+--------------------------------+\n",
      "|Country_name|Healthy_life_expectancy_at_birth|\n",
      "+------------+--------------------------------+\n",
      "|   Singapore|                            77.1|\n",
      "+------------+--------------------------------+\n",
      "\n"
     ]
    }
   ],
   "source": [
    "# tabla temporal\n",
    "world_happ_data.createOrReplaceTempView(\"temp_table\")\n",
    "\n",
    "# Query\n",
    "spark.sql(\"select Country_name, Healthy_life_expectancy_at_birth from temp_table where Healthy_life_expectancy_at_birth = (select max(Healthy_life_expectancy_at_birth) from temp_table )\").show()"
   ]
  },
  {
   "cell_type": "markdown",
   "id": "28806abd",
   "metadata": {},
   "source": [
    "<h1> Ejercicio 6 bis ¿Cuánto tenia \n",
    "en ese indicador en el 2019? </h1>"
   ]
  },
  {
   "cell_type": "code",
   "execution_count": 15,
   "id": "6b932a44",
   "metadata": {
    "scrolled": false
   },
   "outputs": [
    {
     "name": "stdout",
     "output_type": "stream",
     "text": [
      "+------------+--------------------------------+----+\n",
      "|Country_name|Healthy_life_expectancy_at_birth|year|\n",
      "+------------+--------------------------------+----+\n",
      "|   Singapore|                            77.1|2019|\n",
      "+------------+--------------------------------+----+\n",
      "\n"
     ]
    }
   ],
   "source": [
    "# tabla temporal\n",
    "world_happ_data.createOrReplaceTempView(\"temp_table\")\n",
    "\n",
    "# Query\n",
    "spark.sql(\"select Country_name, Healthy_life_expectancy_at_birth, year from temp_table where Country_name = 'Singapore' and year = 2019\").show()"
   ]
  }
 ],
 "metadata": {
  "kernelspec": {
   "display_name": "Python 3 (ipykernel)",
   "language": "python",
   "name": "python3"
  },
  "language_info": {
   "codemirror_mode": {
    "name": "ipython",
    "version": 3
   },
   "file_extension": ".py",
   "mimetype": "text/x-python",
   "name": "python",
   "nbconvert_exporter": "python",
   "pygments_lexer": "ipython3",
   "version": "3.9.13"
  }
 },
 "nbformat": 4,
 "nbformat_minor": 5
}
